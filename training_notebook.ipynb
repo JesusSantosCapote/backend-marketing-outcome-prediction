{
 "cells": [
  {
   "cell_type": "markdown",
   "metadata": {},
   "source": [
    "# Regression Project for Marketing Outcome Prediction\n",
    "\n",
    "## Project Overview\n",
    "\n",
    "Most companies invest in various marketing mediums such as television advertisements, social media and influencers, and radio promotions to attract customers and advertise products. With the advent of digital marketing and the ubiquitous availability of information, data analysis is becoming increasingly important.\n",
    "\n",
    "### Objective\n",
    "\n",
    "In this project, we will use the advertising and sales dataset available on Kaggle to predict the sales resulting from expenditure towards various marketing mediums. By leveraging regression techniques, we aim to:\n",
    "\n",
    "1. Predict sales based on different marketing expenditures.\n",
    "2. Draw insights on which marketing mediums have the highest impact on sales.\n",
    "3. Implement cross-validation to avoid overfitting and underfitting.\n",
    "\n",
    "## Steps to Follow\n",
    "\n",
    "1. **Data Exploration**: Load and explore the dataset to understand its structure and contents.\n",
    "2. **Data Preprocessing**: Clean and preprocess the data to prepare it for modeling.\n",
    "3. **Feature Selection**: Select relevant features that influence sales.\n",
    "4. **Model Training**: Train a regression model to predict sales based on marketing expenditures.\n",
    "5. **Model Evaluation**: Evaluate the model's performance using cross-validation techniques.\n",
    "6. **Insights and Interpretation**: Analyze the results to determine which marketing mediums have the highest impact on sales.\n",
    "\n",
    "## Tools and Libraries\n",
    "\n",
    "- **Python**: The primary programming language.\n",
    "- **Pandas**: For data manipulation and analysis.\n",
    "- **NumPy**: For numerical operations.\n",
    "- **Scikit-learn**: For machine learning and regression models.\n",
    "- **Matplotlib/Seaborn**: For data visualization.\n",
    "- **Dataset**: [Marketing and Sales Data](https://www.kaggle.com/datasets/harrimansaragih/dummy-advertising-and-sales-data)\n",
    "\n",
    "---\n",
    "\n",
    "Let's dive into the data and begin our journey to uncover actionable marketing insights!\n"
   ]
  },
  {
   "cell_type": "code",
   "execution_count": 4,
   "metadata": {},
   "outputs": [
    {
     "name": "stdout",
     "output_type": "stream",
     "text": [
      "Requirement already satisfied: pandas in d:\\study\\data science\\projects\\marketing outcome prediction\\backend\\venv\\lib\\site-packages (2.2.3)\n",
      "Requirement already satisfied: numpy>=1.26.0 in d:\\study\\data science\\projects\\marketing outcome prediction\\backend\\venv\\lib\\site-packages (from pandas) (2.1.2)\n",
      "Requirement already satisfied: python-dateutil>=2.8.2 in d:\\study\\data science\\projects\\marketing outcome prediction\\backend\\venv\\lib\\site-packages (from pandas) (2.9.0.post0)\n",
      "Requirement already satisfied: pytz>=2020.1 in d:\\study\\data science\\projects\\marketing outcome prediction\\backend\\venv\\lib\\site-packages (from pandas) (2024.2)\n",
      "Requirement already satisfied: tzdata>=2022.7 in d:\\study\\data science\\projects\\marketing outcome prediction\\backend\\venv\\lib\\site-packages (from pandas) (2024.2)\n",
      "Requirement already satisfied: six>=1.5 in d:\\study\\data science\\projects\\marketing outcome prediction\\backend\\venv\\lib\\site-packages (from python-dateutil>=2.8.2->pandas) (1.16.0)\n",
      "Note: you may need to restart the kernel to use updated packages.\n",
      "Requirement already satisfied: numpy in d:\\study\\data science\\projects\\marketing outcome prediction\\backend\\venv\\lib\\site-packages (2.1.2)\n",
      "Note: you may need to restart the kernel to use updated packages.\n",
      "Requirement already satisfied: matplotlib in d:\\study\\data science\\projects\\marketing outcome prediction\\backend\\venv\\lib\\site-packages (3.9.2)\n",
      "Requirement already satisfied: contourpy>=1.0.1 in d:\\study\\data science\\projects\\marketing outcome prediction\\backend\\venv\\lib\\site-packages (from matplotlib) (1.3.0)\n",
      "Requirement already satisfied: cycler>=0.10 in d:\\study\\data science\\projects\\marketing outcome prediction\\backend\\venv\\lib\\site-packages (from matplotlib) (0.12.1)\n",
      "Requirement already satisfied: fonttools>=4.22.0 in d:\\study\\data science\\projects\\marketing outcome prediction\\backend\\venv\\lib\\site-packages (from matplotlib) (4.54.1)\n",
      "Requirement already satisfied: kiwisolver>=1.3.1 in d:\\study\\data science\\projects\\marketing outcome prediction\\backend\\venv\\lib\\site-packages (from matplotlib) (1.4.7)\n",
      "Requirement already satisfied: numpy>=1.23 in d:\\study\\data science\\projects\\marketing outcome prediction\\backend\\venv\\lib\\site-packages (from matplotlib) (2.1.2)\n",
      "Requirement already satisfied: packaging>=20.0 in d:\\study\\data science\\projects\\marketing outcome prediction\\backend\\venv\\lib\\site-packages (from matplotlib) (24.1)\n",
      "Requirement already satisfied: pillow>=8 in d:\\study\\data science\\projects\\marketing outcome prediction\\backend\\venv\\lib\\site-packages (from matplotlib) (11.0.0)\n",
      "Requirement already satisfied: pyparsing>=2.3.1 in d:\\study\\data science\\projects\\marketing outcome prediction\\backend\\venv\\lib\\site-packages (from matplotlib) (3.2.0)\n",
      "Requirement already satisfied: python-dateutil>=2.7 in d:\\study\\data science\\projects\\marketing outcome prediction\\backend\\venv\\lib\\site-packages (from matplotlib) (2.9.0.post0)\n",
      "Requirement already satisfied: six>=1.5 in d:\\study\\data science\\projects\\marketing outcome prediction\\backend\\venv\\lib\\site-packages (from python-dateutil>=2.7->matplotlib) (1.16.0)\n",
      "Note: you may need to restart the kernel to use updated packages.\n",
      "Requirement already satisfied: scikit-learn in d:\\study\\data science\\projects\\marketing outcome prediction\\backend\\venv\\lib\\site-packages (1.5.2)\n",
      "Requirement already satisfied: numpy>=1.19.5 in d:\\study\\data science\\projects\\marketing outcome prediction\\backend\\venv\\lib\\site-packages (from scikit-learn) (2.1.2)\n",
      "Requirement already satisfied: scipy>=1.6.0 in d:\\study\\data science\\projects\\marketing outcome prediction\\backend\\venv\\lib\\site-packages (from scikit-learn) (1.14.1)\n",
      "Requirement already satisfied: joblib>=1.2.0 in d:\\study\\data science\\projects\\marketing outcome prediction\\backend\\venv\\lib\\site-packages (from scikit-learn) (1.4.2)\n",
      "Requirement already satisfied: threadpoolctl>=3.1.0 in d:\\study\\data science\\projects\\marketing outcome prediction\\backend\\venv\\lib\\site-packages (from scikit-learn) (3.5.0)\n",
      "Note: you may need to restart the kernel to use updated packages.\n"
     ]
    }
   ],
   "source": [
    "#Installs\n",
    "%pip install pandas\n",
    "%pip install numpy\n",
    "%pip install matplotlib\n",
    "%pip install scikit-learn"
   ]
  },
  {
   "cell_type": "code",
   "execution_count": 5,
   "metadata": {},
   "outputs": [],
   "source": [
    "#imports\n",
    "import pandas as pd\n",
    "import numpy as np\n",
    "import matplotlib.pyplot as plt"
   ]
  },
  {
   "cell_type": "code",
   "execution_count": 6,
   "metadata": {},
   "outputs": [
    {
     "data": {
      "text/html": [
       "<div>\n",
       "<style scoped>\n",
       "    .dataframe tbody tr th:only-of-type {\n",
       "        vertical-align: middle;\n",
       "    }\n",
       "\n",
       "    .dataframe tbody tr th {\n",
       "        vertical-align: top;\n",
       "    }\n",
       "\n",
       "    .dataframe thead th {\n",
       "        text-align: right;\n",
       "    }\n",
       "</style>\n",
       "<table border=\"1\" class=\"dataframe\">\n",
       "  <thead>\n",
       "    <tr style=\"text-align: right;\">\n",
       "      <th></th>\n",
       "      <th>TV</th>\n",
       "      <th>Radio</th>\n",
       "      <th>Social Media</th>\n",
       "      <th>Influencer</th>\n",
       "      <th>Sales</th>\n",
       "    </tr>\n",
       "  </thead>\n",
       "  <tbody>\n",
       "    <tr>\n",
       "      <th>0</th>\n",
       "      <td>16.0</td>\n",
       "      <td>6.566231</td>\n",
       "      <td>2.907983</td>\n",
       "      <td>Mega</td>\n",
       "      <td>54.732757</td>\n",
       "    </tr>\n",
       "    <tr>\n",
       "      <th>1</th>\n",
       "      <td>13.0</td>\n",
       "      <td>9.237765</td>\n",
       "      <td>2.409567</td>\n",
       "      <td>Mega</td>\n",
       "      <td>46.677897</td>\n",
       "    </tr>\n",
       "    <tr>\n",
       "      <th>2</th>\n",
       "      <td>41.0</td>\n",
       "      <td>15.886446</td>\n",
       "      <td>2.913410</td>\n",
       "      <td>Mega</td>\n",
       "      <td>150.177829</td>\n",
       "    </tr>\n",
       "    <tr>\n",
       "      <th>3</th>\n",
       "      <td>83.0</td>\n",
       "      <td>30.020028</td>\n",
       "      <td>6.922304</td>\n",
       "      <td>Mega</td>\n",
       "      <td>298.246340</td>\n",
       "    </tr>\n",
       "    <tr>\n",
       "      <th>4</th>\n",
       "      <td>15.0</td>\n",
       "      <td>8.437408</td>\n",
       "      <td>1.405998</td>\n",
       "      <td>Micro</td>\n",
       "      <td>56.594181</td>\n",
       "    </tr>\n",
       "    <tr>\n",
       "      <th>5</th>\n",
       "      <td>29.0</td>\n",
       "      <td>9.614382</td>\n",
       "      <td>1.027163</td>\n",
       "      <td>Mega</td>\n",
       "      <td>105.889148</td>\n",
       "    </tr>\n",
       "    <tr>\n",
       "      <th>6</th>\n",
       "      <td>55.0</td>\n",
       "      <td>24.893811</td>\n",
       "      <td>4.273602</td>\n",
       "      <td>Micro</td>\n",
       "      <td>198.679825</td>\n",
       "    </tr>\n",
       "    <tr>\n",
       "      <th>7</th>\n",
       "      <td>31.0</td>\n",
       "      <td>17.355042</td>\n",
       "      <td>2.289855</td>\n",
       "      <td>Nano</td>\n",
       "      <td>108.733932</td>\n",
       "    </tr>\n",
       "    <tr>\n",
       "      <th>8</th>\n",
       "      <td>76.0</td>\n",
       "      <td>24.648898</td>\n",
       "      <td>7.130116</td>\n",
       "      <td>Macro</td>\n",
       "      <td>270.189400</td>\n",
       "    </tr>\n",
       "  </tbody>\n",
       "</table>\n",
       "</div>"
      ],
      "text/plain": [
       "     TV      Radio  Social Media Influencer       Sales\n",
       "0  16.0   6.566231      2.907983       Mega   54.732757\n",
       "1  13.0   9.237765      2.409567       Mega   46.677897\n",
       "2  41.0  15.886446      2.913410       Mega  150.177829\n",
       "3  83.0  30.020028      6.922304       Mega  298.246340\n",
       "4  15.0   8.437408      1.405998      Micro   56.594181\n",
       "5  29.0   9.614382      1.027163       Mega  105.889148\n",
       "6  55.0  24.893811      4.273602      Micro  198.679825\n",
       "7  31.0  17.355042      2.289855       Nano  108.733932\n",
       "8  76.0  24.648898      7.130116      Macro  270.189400"
      ]
     },
     "execution_count": 6,
     "metadata": {},
     "output_type": "execute_result"
    }
   ],
   "source": [
    "#Data Exploration\n",
    "df = pd.read_csv(\"Dummy Data HSS.csv\")\n",
    "df.head(9)"
   ]
  },
  {
   "cell_type": "code",
   "execution_count": 7,
   "metadata": {},
   "outputs": [
    {
     "data": {
      "text/html": [
       "<div>\n",
       "<style scoped>\n",
       "    .dataframe tbody tr th:only-of-type {\n",
       "        vertical-align: middle;\n",
       "    }\n",
       "\n",
       "    .dataframe tbody tr th {\n",
       "        vertical-align: top;\n",
       "    }\n",
       "\n",
       "    .dataframe thead th {\n",
       "        text-align: right;\n",
       "    }\n",
       "</style>\n",
       "<table border=\"1\" class=\"dataframe\">\n",
       "  <thead>\n",
       "    <tr style=\"text-align: right;\">\n",
       "      <th></th>\n",
       "      <th>TV</th>\n",
       "      <th>Radio</th>\n",
       "      <th>Social Media</th>\n",
       "      <th>Sales</th>\n",
       "    </tr>\n",
       "  </thead>\n",
       "  <tbody>\n",
       "    <tr>\n",
       "      <th>count</th>\n",
       "      <td>4562.000000</td>\n",
       "      <td>4568.000000</td>\n",
       "      <td>4566.000000</td>\n",
       "      <td>4566.000000</td>\n",
       "    </tr>\n",
       "    <tr>\n",
       "      <th>mean</th>\n",
       "      <td>54.066857</td>\n",
       "      <td>18.160356</td>\n",
       "      <td>3.323956</td>\n",
       "      <td>192.466602</td>\n",
       "    </tr>\n",
       "    <tr>\n",
       "      <th>std</th>\n",
       "      <td>26.125054</td>\n",
       "      <td>9.676958</td>\n",
       "      <td>2.212670</td>\n",
       "      <td>93.133092</td>\n",
       "    </tr>\n",
       "    <tr>\n",
       "      <th>min</th>\n",
       "      <td>10.000000</td>\n",
       "      <td>0.000684</td>\n",
       "      <td>0.000031</td>\n",
       "      <td>31.199409</td>\n",
       "    </tr>\n",
       "    <tr>\n",
       "      <th>25%</th>\n",
       "      <td>32.000000</td>\n",
       "      <td>10.525957</td>\n",
       "      <td>1.527849</td>\n",
       "      <td>112.322882</td>\n",
       "    </tr>\n",
       "    <tr>\n",
       "      <th>50%</th>\n",
       "      <td>53.000000</td>\n",
       "      <td>17.859513</td>\n",
       "      <td>3.055565</td>\n",
       "      <td>189.231172</td>\n",
       "    </tr>\n",
       "    <tr>\n",
       "      <th>75%</th>\n",
       "      <td>77.000000</td>\n",
       "      <td>25.649730</td>\n",
       "      <td>4.807558</td>\n",
       "      <td>272.507922</td>\n",
       "    </tr>\n",
       "    <tr>\n",
       "      <th>max</th>\n",
       "      <td>100.000000</td>\n",
       "      <td>48.871161</td>\n",
       "      <td>13.981662</td>\n",
       "      <td>364.079751</td>\n",
       "    </tr>\n",
       "  </tbody>\n",
       "</table>\n",
       "</div>"
      ],
      "text/plain": [
       "                TV        Radio  Social Media        Sales\n",
       "count  4562.000000  4568.000000   4566.000000  4566.000000\n",
       "mean     54.066857    18.160356      3.323956   192.466602\n",
       "std      26.125054     9.676958      2.212670    93.133092\n",
       "min      10.000000     0.000684      0.000031    31.199409\n",
       "25%      32.000000    10.525957      1.527849   112.322882\n",
       "50%      53.000000    17.859513      3.055565   189.231172\n",
       "75%      77.000000    25.649730      4.807558   272.507922\n",
       "max     100.000000    48.871161     13.981662   364.079751"
      ]
     },
     "execution_count": 7,
     "metadata": {},
     "output_type": "execute_result"
    }
   ],
   "source": [
    "df.describe()"
   ]
  },
  {
   "cell_type": "markdown",
   "metadata": {},
   "source": [
    "The dependant variable Sales has fewer values than the other variables. We need to do some transformations to the dataframe for achieve that all the varibales has equal lenght before start training."
   ]
  },
  {
   "cell_type": "code",
   "execution_count": 8,
   "metadata": {},
   "outputs": [
    {
     "data": {
      "text/html": [
       "<div>\n",
       "<style scoped>\n",
       "    .dataframe tbody tr th:only-of-type {\n",
       "        vertical-align: middle;\n",
       "    }\n",
       "\n",
       "    .dataframe tbody tr th {\n",
       "        vertical-align: top;\n",
       "    }\n",
       "\n",
       "    .dataframe thead th {\n",
       "        text-align: right;\n",
       "    }\n",
       "</style>\n",
       "<table border=\"1\" class=\"dataframe\">\n",
       "  <thead>\n",
       "    <tr style=\"text-align: right;\">\n",
       "      <th></th>\n",
       "      <th>TV</th>\n",
       "      <th>Radio</th>\n",
       "      <th>Social Media</th>\n",
       "      <th>Sales</th>\n",
       "    </tr>\n",
       "  </thead>\n",
       "  <tbody>\n",
       "    <tr>\n",
       "      <th>count</th>\n",
       "      <td>4546.000000</td>\n",
       "      <td>4546.000000</td>\n",
       "      <td>4546.000000</td>\n",
       "      <td>4546.000000</td>\n",
       "    </tr>\n",
       "    <tr>\n",
       "      <th>mean</th>\n",
       "      <td>54.062912</td>\n",
       "      <td>18.157533</td>\n",
       "      <td>3.323473</td>\n",
       "      <td>192.413332</td>\n",
       "    </tr>\n",
       "    <tr>\n",
       "      <th>std</th>\n",
       "      <td>26.104942</td>\n",
       "      <td>9.663260</td>\n",
       "      <td>2.211254</td>\n",
       "      <td>93.019873</td>\n",
       "    </tr>\n",
       "    <tr>\n",
       "      <th>min</th>\n",
       "      <td>10.000000</td>\n",
       "      <td>0.000684</td>\n",
       "      <td>0.000031</td>\n",
       "      <td>31.199409</td>\n",
       "    </tr>\n",
       "    <tr>\n",
       "      <th>25%</th>\n",
       "      <td>32.000000</td>\n",
       "      <td>10.555355</td>\n",
       "      <td>1.530822</td>\n",
       "      <td>112.434612</td>\n",
       "    </tr>\n",
       "    <tr>\n",
       "      <th>50%</th>\n",
       "      <td>53.000000</td>\n",
       "      <td>17.859513</td>\n",
       "      <td>3.055565</td>\n",
       "      <td>188.963678</td>\n",
       "    </tr>\n",
       "    <tr>\n",
       "      <th>75%</th>\n",
       "      <td>77.000000</td>\n",
       "      <td>25.640603</td>\n",
       "      <td>4.804919</td>\n",
       "      <td>272.324236</td>\n",
       "    </tr>\n",
       "    <tr>\n",
       "      <th>max</th>\n",
       "      <td>100.000000</td>\n",
       "      <td>48.871161</td>\n",
       "      <td>13.981662</td>\n",
       "      <td>364.079751</td>\n",
       "    </tr>\n",
       "  </tbody>\n",
       "</table>\n",
       "</div>"
      ],
      "text/plain": [
       "                TV        Radio  Social Media        Sales\n",
       "count  4546.000000  4546.000000   4546.000000  4546.000000\n",
       "mean     54.062912    18.157533      3.323473   192.413332\n",
       "std      26.104942     9.663260      2.211254    93.019873\n",
       "min      10.000000     0.000684      0.000031    31.199409\n",
       "25%      32.000000    10.555355      1.530822   112.434612\n",
       "50%      53.000000    17.859513      3.055565   188.963678\n",
       "75%      77.000000    25.640603      4.804919   272.324236\n",
       "max     100.000000    48.871161     13.981662   364.079751"
      ]
     },
     "execution_count": 8,
     "metadata": {},
     "output_type": "execute_result"
    }
   ],
   "source": [
    "df = df.dropna(axis=0)\n",
    "min_count = df.notna().sum().min()\n",
    "df = df.apply(lambda col: col.dropna().iloc[:min_count])\n",
    "df = df.reset_index(drop=True)\n",
    "df.describe()\n",
    "#Now the variables has the same lenght"
   ]
  },
  {
   "cell_type": "code",
   "execution_count": 9,
   "metadata": {},
   "outputs": [
    {
     "name": "stdout",
     "output_type": "stream",
     "text": [
      "{'Mega': 4, 'Micro': 3, 'Nano': 2, 'Macro': 1}\n"
     ]
    }
   ],
   "source": [
    "#Codification of the categorical variable Influencer\n",
    "influ_map = {}\n",
    "categories = df['Influencer'].unique()\n",
    "values = [i for i in range(1, len(categories) + 1)]\n",
    "values.reverse()\n",
    "\n",
    "for influ_category, value in zip(categories, values):\n",
    "    influ_map[influ_category] = value\n",
    "\n",
    "print(influ_map)\n",
    "df[\"Influencer key\"] = df[\"Influencer\"].map(influ_map)"
   ]
  },
  {
   "cell_type": "code",
   "execution_count": 10,
   "metadata": {},
   "outputs": [
    {
     "data": {
      "image/png": "[encoded data removed]",
      "text/plain": [
       "<Figure size 640x480 with 1 Axes>"
      ]
     },
     "metadata": {},
     "output_type": "display_data"
    }
   ],
   "source": [
    "#Visual exploration of the relationship between sales and the rest of the variables\n",
    "plt.scatter(df[\"TV\"], df[\"Sales\"])\n",
    "plt.xlabel(\"TV\")\n",
    "plt.ylabel(\"Sales\")\n",
    "plt.show()"
   ]
  },
  {
   "cell_type": "code",
   "execution_count": 11,
   "metadata": {},
   "outputs": [
    {
     "data": {
      "image/png": "[encoded data removed]",
      "text/plain": [
       "<Figure size 640x480 with 1 Axes>"
      ]
     },
     "metadata": {},
     "output_type": "display_data"
    }
   ],
   "source": [
    "plt.scatter(df[\"Radio\"], df[\"Sales\"])\n",
    "plt.xlabel(\"Radio\")\n",
    "plt.ylabel(\"Sales\")\n",
    "plt.show()"
   ]
  },
  {
   "cell_type": "code",
   "execution_count": 12,
   "metadata": {},
   "outputs": [
    {
     "data": {
      "image/png": "[encoded data removed]",
      "text/plain": [
       "<Figure size 640x480 with 1 Axes>"
      ]
     },
     "metadata": {},
     "output_type": "display_data"
    }
   ],
   "source": [
    "plt.scatter(df[\"Social Media\"], df[\"Sales\"])\n",
    "plt.xlabel(\"Social Media\")\n",
    "plt.ylabel(\"Sales\")\n",
    "plt.show()"
   ]
  },
  {
   "cell_type": "markdown",
   "metadata": {},
   "source": [
    "TV and Radio variables has clearly a linear relationship with Sales. Not so clear in the case in the case of Social Media. Lets do K-Folds Cross Validation to know if include Social Media and influencer in the model."
   ]
  },
  {
   "cell_type": "code",
   "execution_count": 13,
   "metadata": {},
   "outputs": [
    {
     "name": "stdout",
     "output_type": "stream",
     "text": [
      "Training set 1 Measures:\n",
      "R2: 0.999 ,\n",
      "Standard Deviations :0.000\n",
      "\n",
      "Training set 2 Measures:\n",
      "R2: 0.754 ,\n",
      "Standard Deviations :0.015\n",
      "\n",
      "Training set 3 Measures:\n",
      "R2: 0.999 ,\n",
      "Standard Deviations :0.000\n",
      "\n",
      "Training set 4 Measures:\n",
      "R2: 0.276 ,\n",
      "Standard Deviations :0.029\n",
      "\n",
      "Training set 5 Measures:\n",
      "R2: 0.999 ,\n",
      "Standard Deviations :0.000\n",
      "\n",
      "Training set 6 Measures:\n",
      "R2: 0.999 ,\n",
      "Standard Deviations :0.000\n",
      "\n",
      "Training set 7 Measures:\n",
      "R2: 0.999 ,\n",
      "Standard Deviations :0.000\n",
      "\n",
      "Training set 8 Measures:\n",
      "R2: 0.754 ,\n",
      "Standard Deviations :0.011\n",
      "\n",
      "Training set 9 Measures:\n",
      "R2: 0.754 ,\n",
      "Standard Deviations :0.012\n",
      "\n",
      "Training set 10 Measures:\n",
      "R2: -0.002 ,\n",
      "Standard Deviations :0.003\n",
      "\n"
     ]
    }
   ],
   "source": [
    "#implementing K-Fold cross validation\n",
    "from sklearn.model_selection import cross_val_score, KFold\n",
    "from sklearn.linear_model import LinearRegression\n",
    "\n",
    "def cross_validation_measures(model, X, y, cv):\n",
    "    scores = cross_val_score(model, X, y, scoring='r2', cv=cv)\n",
    "    print('R2: %.3f ,\\nStandard Deviations :%.3f\\n' %\n",
    "      (np.mean(scores), np.std(scores)))\n",
    "\n",
    "reg = LinearRegression()\n",
    "cv = KFold(5, shuffle=True)\n",
    "X1 = np.asanyarray(df[['TV']])\n",
    "X2 = np.asanyarray(df[['Radio']])\n",
    "X3 = np.asanyarray(df[['TV', 'Radio']])\n",
    "X4 = np.asanyarray(df[['Social Media']])\n",
    "X5 = np.asanyarray(df[['TV', 'Radio', 'Social Media']])\n",
    "X6 = np.asanyarray(df[['TV', 'Radio', 'Influencer key']])\n",
    "X7 = np.asanyarray(df[['TV', 'Radio', 'Influencer key', 'Social Media']])\n",
    "X8 = np.asanyarray(df[['Radio', 'Social Media']])\n",
    "X9 = np.asanyarray(df[['Radio', 'Social Media', 'Influencer key']])\n",
    "X10 = np.asanyarray(df[['Influencer key']])\n",
    "training_sets = [X1, X2, X3, X4, X5, X6, X7, X8, X9, X10]\n",
    "\n",
    "y = np.asanyarray(df[['Sales']])\n",
    "\n",
    "for X, index in zip(training_sets, range(1, len(training_sets) +1)):\n",
    "    print(f\"Training set {index} Measures:\")\n",
    "    cross_validation_measures(reg, X, y, cv)\n"
   ]
  },
  {
   "cell_type": "markdown",
   "metadata": {},
   "source": [
    "The variables \"Influencer\" and \"Social Media\" have little impact on the prediction since the R² measure does not increase when they are included in the model. Conversely, \"Radio\" and \"TV\" provide good results. With just \"TV\", the model offers an almost perfect result, likely due to the high correlation between the variables \"TV\" and \"Sales,\" as shown by the scatter plot where the linear relationship between these two variables is evident. It is decided to include \"Radio\" in the model as a backup in case \"TV\" data is missing, given that \"Radio\" alone achieves good metrics."
   ]
  },
  {
   "cell_type": "code",
   "execution_count": 14,
   "metadata": {},
   "outputs": [
    {
     "name": "stdout",
     "output_type": "stream",
     "text": [
      "Coefficients:  [[ 3.56257080e+00 -3.28439361e-03]]\n"
     ]
    }
   ],
   "source": [
    "#Training\n",
    "X_train = np.asanyarray(df[['TV', 'Radio']])\n",
    "y_train = np.asanyarray(df[['Sales']])\n",
    "\n",
    "reg.fit(X_train, y_train)\n",
    "\n",
    "print(\"Coefficients: \", reg.coef_)"
   ]
  },
  {
   "cell_type": "markdown",
   "metadata": {},
   "source": [
    "Looking at the coefficients, it's clear that the TV variable has the most significant impact on sales."
   ]
  },
  {
   "cell_type": "code",
   "execution_count": 15,
   "metadata": {},
   "outputs": [],
   "source": [
    "#Saving the model for deploy\n",
    "import pickle\n",
    "import os\n",
    "\n",
    "with open(os.path.join(os.getcwd(), 'model_checkpoint', 'lr_model.pkl'), 'wb') as file:\n",
    "    pickle.dump(reg, file)"
   ]
  }
 ],
 "metadata": {
  "kernelspec": {
   "display_name": "venv",
   "language": "python",
   "name": "python3"
  },
  "language_info": {
   "codemirror_mode": {
    "name": "ipython",
    "version": 3
   },
   "file_extension": ".py",
   "mimetype": "text/x-python",
   "name": "python",
   "nbconvert_exporter": "python",
   "pygments_lexer": "ipython3",
   "version": "3.13.0"
  }
 },
 "nbformat": 4,
 "nbformat_minor": 2
}
